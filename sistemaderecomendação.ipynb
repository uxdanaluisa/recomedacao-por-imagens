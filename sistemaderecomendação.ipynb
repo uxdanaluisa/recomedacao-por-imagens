{
  "nbformat": 4,
  "nbformat_minor": 0,
  "metadata": {
    "colab": {
      "provenance": [],
      "authorship_tag": "ABX9TyOaW9VjeY25zo04NAUA48G5",
      "include_colab_link": true
    },
    "kernelspec": {
      "name": "python3",
      "display_name": "Python 3"
    },
    "language_info": {
      "name": "python"
    }
  },
  "cells": [
    {
      "cell_type": "markdown",
      "metadata": {
        "id": "view-in-github",
        "colab_type": "text"
      },
      "source": [
        "<a href=\"https://colab.research.google.com/github/uxdanaluisa/recomedacao-por-imagens/blob/main/sistemaderecomenda%C3%A7%C3%A3o.ipynb\" target=\"_parent\"><img src=\"https://colab.research.google.com/assets/colab-badge.svg\" alt=\"Open In Colab\"/></a>"
      ]
    },
    {
      "cell_type": "code",
      "execution_count": 1,
      "metadata": {
        "colab": {
          "base_uri": "https://localhost:8080/",
          "height": 208
        },
        "id": "iD2mQSwGQljN",
        "outputId": "9a64a0c9-cf32-42de-ac33-f6d5d7a41e57"
      },
      "outputs": [
        {
          "output_type": "stream",
          "name": "stderr",
          "text": [
            "/tmp/ipython-input-3346848866.py:45: UserWarning: `input_shape` is undefined or non-square, or `rows` is not in [96, 128, 160, 192, 224]. Weights for input shape (224, 224) will be loaded as the default.\n",
            "  base_model = MobileNetV2(weights='imagenet', include_top=False, pooling='avg')\n"
          ]
        },
        {
          "output_type": "display_data",
          "data": {
            "text/plain": [
              "<Figure size 1000x200 with 6 Axes>"
            ],
            "image/png": "[encoded data removed]"
          },
          "metadata": {}
        }
      ],
      "source": [
        "#Sistema de recomdação por imagens\n",
        "\n",
        "\n",
        "# ---- 1. IMPORTAR BIBLIOTECAS ----\n",
        "import numpy as np\n",
        "import matplotlib.pyplot as plt\n",
        "from sklearn.neighbors import NearestNeighbors\n",
        "from tensorflow.keras.datasets import fashion_mnist\n",
        "from tensorflow.keras.applications import MobileNetV2\n",
        "from tensorflow.keras.applications.mobilenet_v2 import preprocess_input\n",
        "from tensorflow.image import resize\n",
        "import tensorflow as tf\n",
        "\n",
        "# ---- 2. CARREGAR DATASET ----\n",
        "# Fashion-MNIST: 10 classes de roupas, 60k imagens 28x28\n",
        "(x_train, y_train), (x_test, y_test) = fashion_mnist.load_data()\n",
        "\n",
        "# Vamos usar **menos imagens** para economizar RAM\n",
        "x_train = x_train[:2000]  # 2000 imagens para treino\n",
        "x_test  = x_test[:50]     # 50 imagens para teste\n",
        "\n",
        "# Converter para RGB e normalizar [0,1]\n",
        "x_train = np.stack([x_train]*3, axis=-1) / 255.0\n",
        "x_test  = np.stack([x_test]*3,  axis=-1) / 255.0\n",
        "\n",
        "# ---- 3. FUNÇÃO PARA REDIMENSIONAR E PREPROCESSAR IMAGENS EM LOTES ----\n",
        "def preprocess_images_in_batches(imgs, batch_size=100):\n",
        "    \"\"\"\n",
        "    Redimensiona para 224x224 e aplica preprocess_input do MobileNet\n",
        "    Processa em lotes para economizar memória\n",
        "    \"\"\"\n",
        "    imgs_resized = []\n",
        "    num_batches = int(np.ceil(len(imgs)/batch_size))\n",
        "    for i in range(num_batches):\n",
        "        batch = imgs[i*batch_size:(i+1)*batch_size]\n",
        "        batch_resized = tf.image.resize(batch, (224,224))\n",
        "        batch_resized = preprocess_input(batch_resized)\n",
        "        imgs_resized.append(batch_resized.numpy())\n",
        "    return np.concatenate(imgs_resized, axis=0)\n",
        "\n",
        "x_train_resized = preprocess_images_in_batches(x_train, batch_size=200)\n",
        "x_test_resized  = preprocess_images_in_batches(x_test, batch_size=20)\n",
        "\n",
        "# ---- 4. EXTRAIR EMBEDDINGS COM MobileNetV2 (sem camada final) ----\n",
        "base_model = MobileNetV2(weights='imagenet', include_top=False, pooling='avg')\n",
        "\n",
        "# Processar em lotes para economizar memória\n",
        "def extract_embeddings(model, imgs, batch_size=32):\n",
        "    embeddings = []\n",
        "    num_batches = int(np.ceil(len(imgs)/batch_size))\n",
        "    for i in range(num_batches):\n",
        "        batch = imgs[i*batch_size:(i+1)*batch_size]\n",
        "        emb = model.predict(batch, verbose=0)\n",
        "        embeddings.append(emb)\n",
        "    return np.concatenate(embeddings, axis=0)\n",
        "\n",
        "embeddings_train = extract_embeddings(base_model, x_train_resized, batch_size=32)\n",
        "embeddings_test  = extract_embeddings(base_model, x_test_resized, batch_size=16)\n",
        "\n",
        "# ---- 5. AJUSTAR MODELO DE VIZINHOS MAIS PRÓXIMOS ----\n",
        "nbrs = NearestNeighbors(n_neighbors=6, algorithm='auto', metric='euclidean')\n",
        "nbrs.fit(embeddings_train)\n",
        "\n",
        "# ---- 6. FUNÇÃO DE RECOMENDAÇÃO ----\n",
        "def recomendar(imagem_indice):\n",
        "    \"\"\"\n",
        "    Mostra a imagem de teste e as 5 imagens mais parecidas do treino\n",
        "    \"\"\"\n",
        "    emb = embeddings_test[imagem_indice].reshape(1, -1)\n",
        "    distancias, indices = nbrs.kneighbors(emb)\n",
        "\n",
        "    # Plotar a imagem de consulta\n",
        "    plt.figure(figsize=(10,2))\n",
        "    plt.subplot(1,7,1)\n",
        "    plt.imshow(x_test[imagem_indice].astype(\"float\"))\n",
        "    plt.title(\"Consulta\")\n",
        "    plt.axis(\"off\")\n",
        "\n",
        "    # Plotar as 5 mais parecidas\n",
        "    for i, idx in enumerate(indices[0][1:]):\n",
        "        plt.subplot(1,7,i+2)\n",
        "        plt.imshow(x_train[idx].astype(\"float\"))\n",
        "        plt.title(f\"Sim {i+1}\")\n",
        "        plt.axis(\"off\")\n",
        "    plt.show()\n",
        "\n",
        "# ---- 7. TESTAR O SISTEMA ----\n",
        "recomendar(10)  # Escolha uma imagem de teste entre 0 e 49\n"
      ]
    },
    {
      "cell_type": "code",
      "source": [
        "# ==============================================\n",
        "# SISTEMA DE RECOMENDAÇÃO POR IMAGENS LEVE\n",
        "# Sem redes grandes, roda rápido no Colab gratuito\n",
        "# ==============================================\n",
        "\n",
        "# ---- 1. IMPORTAR BIBLIOTECAS ----\n",
        "import numpy as np\n",
        "import matplotlib.pyplot as plt\n",
        "from sklearn.neighbors import NearestNeighbors\n",
        "from tensorflow.keras.datasets import fashion_mnist\n",
        "\n",
        "# ---- 2. CARREGAR DATASET ----\n",
        "# Usaremos só uma parte pequena para evitar travar\n",
        "(x_train, y_train), (x_test, y_test) = fashion_mnist.load_data()\n",
        "\n",
        "x_train = x_train[:500]  # apenas 500 imagens de treino\n",
        "x_test  = x_test[:10]    # apenas 10 imagens de teste\n",
        "\n",
        "# Normalizar para [0,1]\n",
        "x_train = x_train / 255.0\n",
        "x_test  = x_test / 255.0\n",
        "\n",
        "# ---- 3. FLATTEN (achatar as imagens 28x28 para 784 pixels) ----\n",
        "X_train_flat = x_train.reshape(len(x_train), -1)  # 500 x 784\n",
        "X_test_flat  = x_test.reshape(len(x_test), -1)    # 10 x 784\n",
        "\n",
        "# ---- 4. AJUSTAR MODELO DE VIZINHOS MAIS PRÓXIMOS ----\n",
        "nbrs = NearestNeighbors(n_neighbors=6, metric='euclidean')\n",
        "nbrs.fit(X_train_flat)\n",
        "\n",
        "# ---- 5. FUNÇÃO DE RECOMENDAÇÃO ----\n",
        "def recomendar(imagem_indice):\n",
        "    \"\"\"\n",
        "    Mostra a imagem de teste e as 5 imagens mais parecidas do treino\n",
        "    \"\"\"\n",
        "    emb = X_test_flat[imagem_indice].reshape(1, -1)\n",
        "    distancias, indices = nbrs.kneighbors(emb)\n",
        "\n",
        "    plt.figure(figsize=(10,2))\n",
        "\n",
        "    # Imagem de consulta\n",
        "    plt.subplot(1,6,1)\n",
        "    plt.imshow(x_test[imagem_indice], cmap='gray')\n",
        "    plt.title(\"Consulta\")\n",
        "    plt.axis(\"off\")\n",
        "\n",
        "    # As 5 mais parecidas\n",
        "    for i, idx in enumerate(indices[0][1:]):  # pular o mais próximo (ele mesmo)\n",
        "        plt.subplot(1,6,i+2)\n",
        "        plt.imshow(x_train[idx], cmap='gray')\n",
        "        plt.title(f\"Sim {i+1}\")\n",
        "        plt.axis(\"off\")\n",
        "\n",
        "    plt.show()\n",
        "\n",
        "# ---- 6. TESTAR O SISTEMA ----\n",
        "recomendar(0)  # escolhe índice entre 0 e 9\n"
      ],
      "metadata": {
        "colab": {
          "base_uri": "https://localhost:8080/",
          "height": 170
        },
        "id": "zkBZHD1lSVRT",
        "outputId": "2499977e-053f-4aaa-9ea9-709a254abcea"
      },
      "execution_count": 2,
      "outputs": [
        {
          "output_type": "display_data",
          "data": {
            "text/plain": [
              "<Figure size 1000x200 with 6 Axes>"
            ],
            "image/png": "[encoded data removed]"
          },
          "metadata": {}
        }
      ]
    }
  ]
}